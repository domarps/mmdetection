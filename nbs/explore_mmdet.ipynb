{
 "cells": [
  {
   "cell_type": "code",
   "execution_count": 20,
   "metadata": {},
   "outputs": [],
   "source": [
    "from mmdet import __version__"
   ]
  },
  {
   "cell_type": "code",
   "execution_count": 21,
   "metadata": {},
   "outputs": [],
   "source": [
    "from __future__ import division\n",
    "\n",
    "import argparse\n",
    "from mmcv import Config\n",
    "\n",
    "from mmdet import __version__\n",
    "from mmdet.datasets import get_dataset\n",
    "from mmdet.apis import (train_detector, init_dist, get_root_logger,\n",
    "                        set_random_seed)\n",
    "from mmdet.models import build_detector\n",
    "import torch\n",
    "import mmcv\n"
   ]
  },
  {
   "cell_type": "code",
   "execution_count": 22,
   "metadata": {},
   "outputs": [],
   "source": [
    "cfg = Config.fromfile('../configs/my_config_faster_rcnn_r101_fpn_1x.py')"
   ]
  },
  {
   "cell_type": "code",
   "execution_count": 23,
   "metadata": {},
   "outputs": [],
   "source": [
    "img_infos = mmcv.load(cfg.data.train.ann_file)"
   ]
  },
  {
   "cell_type": "code",
   "execution_count": 24,
   "metadata": {},
   "outputs": [
    {
     "data": {
      "text/plain": [
       "{'type': 'CustomDataset',\n",
       " 'ann_file': '/home/ubuntu/tp/annotations/tp_train.pkl',\n",
       " 'img_prefix': '/home/ubuntu/tp/mmdet-train/',\n",
       " 'img_scale': (1333, 800),\n",
       " 'img_norm_cfg': {'mean': [123.675, 116.28, 103.53],\n",
       "  'std': [58.395, 57.12, 57.375],\n",
       "  'to_rgb': True},\n",
       " 'size_divisor': 32,\n",
       " 'flip_ratio': 0.5,\n",
       " 'with_mask': False,\n",
       " 'with_crowd': False,\n",
       " 'with_label': True}"
      ]
     },
     "execution_count": 24,
     "metadata": {},
     "output_type": "execute_result"
    }
   ],
   "source": [
    "cfg.data.train"
   ]
  },
  {
   "cell_type": "code",
   "execution_count": 34,
   "metadata": {},
   "outputs": [],
   "source": [
    "\n",
    "! cp ../mmdet/datasets/custom.py /home/ubuntu/anaconda3/lib/python3.6/site-packages/mmdet-0.6.0+11e9c74-py3.6.egg/mmdet/datasets/custom.py"
   ]
  },
  {
   "cell_type": "code",
   "execution_count": 26,
   "metadata": {},
   "outputs": [
    {
     "data": {
      "text/plain": [
       "('token_1', 'token_2', 'token_3', 'token_5', 'token_10', 'token_36')"
      ]
     },
     "execution_count": 26,
     "metadata": {},
     "output_type": "execute_result"
    }
   ],
   "source": [
    "from mmdet.datasets.custom import CustomDataset\n",
    "CustomDataset.CLASSES"
   ]
  },
  {
   "cell_type": "code",
   "execution_count": 27,
   "metadata": {},
   "outputs": [
    {
     "name": "stdout",
     "output_type": "stream",
     "text": [
      "Loaded annotation file ...\n"
     ]
    }
   ],
   "source": [
    "train_dataset = get_dataset(cfg.data.train)"
   ]
  },
  {
   "cell_type": "code",
   "execution_count": 28,
   "metadata": {},
   "outputs": [
    {
     "data": {
      "text/plain": [
       "'/home/ubuntu/tp/mmdet-train/'"
      ]
     },
     "execution_count": 28,
     "metadata": {},
     "output_type": "execute_result"
    }
   ],
   "source": [
    "train_dataset.img_prefix"
   ]
  },
  {
   "cell_type": "code",
   "execution_count": 29,
   "metadata": {},
   "outputs": [],
   "source": [
    "data_loader = torch.utils.data.DataLoader(train_dataset, batch_size=8, shuffle=False, num_workers=8, drop_last=False)"
   ]
  },
  {
   "cell_type": "code",
   "execution_count": 30,
   "metadata": {},
   "outputs": [
    {
     "data": {
      "text/plain": [
       "torch.utils.data.dataloader.DataLoader"
      ]
     },
     "execution_count": 30,
     "metadata": {},
     "output_type": "execute_result"
    }
   ],
   "source": [
    "type(data_loader)"
   ]
  },
  {
   "cell_type": "code",
   "execution_count": 31,
   "metadata": {},
   "outputs": [
    {
     "name": "stdout",
     "output_type": "stream",
     "text": [
      "wotha [[326  29 469  72]]\n",
      "wotha [[ 28  31 101  51]]\n",
      "wotha [[ 29 280 163 308]]\n",
      "wotha [[326  13 483  65]]\n",
      "wotha [[247 436 356 468]]\n",
      "wotha [[235  31 315  57]]\n",
      "wotha [[29 29 90 50]]\n",
      "wotha [[ 26  24 129  54]]\n",
      "wotha [[332  40 446  76]]\n",
      "wotha [[14 14 90 34]]\n",
      "wotha [[ 25  25 208  46]]\n",
      "wotha [[ 33 242 214 302]]\n",
      "wotha [[ 38  36 118  60]]\n",
      "wotha [[155  30 300  61]]\n",
      "wotha [[378  24 473  47]]\n",
      "wotha [[ 20 289 111 313]]\n",
      "wotha [[ 19  18 311  53]]\n",
      "wotha [[ 30  32 195  58]]\n",
      "wotha [[351  14 482  49]]\n",
      "wotha [[254 244 479 311]]\n",
      "wotha [[231  31 468  78]]\n",
      "wotha [[ 53  44 115  65]]\n",
      "wotha [[ 20 261 197 312]]\n",
      "wotha [[ 27  22 101  48]]\n",
      "wotha [[ 27 445 166 477]]\n",
      "wotha [[350  15 481  54]]\n",
      "wotha [[ 35  28 110  56]]\n",
      "wotha [[367 260 481 303]]\n",
      "wotha [[393  30 465  52]]\n",
      "wotha [[ 38  33 160  59]]\n",
      "wotha [[293 167 479 235]]\n",
      "wotha [[ 42  33 167  55]]\n",
      "wotha [[ 36  34 125  60]]\n",
      "wotha [[ 20   9 312  43]]\n",
      "wotha [[ 17  21 165  54]]\n",
      "wotha [[ 42  35 101  56]]\n",
      "wotha [[353   7 489 103]]\n",
      "wotha [[23 22 95 49]]\n",
      "wotha [[257  37 356  62]]\n",
      "wotha [[377  49 446  71]]\n",
      "wotha [[ 14  16 141  63]]\n",
      "wotha [[260  40 448  66]]\n",
      "wotha [[28 29 93 55]]\n",
      "wotha [[401  28 463  51]]\n",
      "wotha [[293  19 474  47]]\n",
      "wotha [[ 15  11 221  37]]\n",
      "wotha [[223  10 320 122]]\n",
      "wotha [[321  35 462  60]]\n",
      "wotha [[290  18 470  71]]\n",
      "wotha [[ 78  20 260  64]]\n",
      "wotha [[120   9 322  68]]\n",
      "wotha [[  9   7 189  27]]\n",
      "wotha [[354  35 460  71]]\n",
      "wotha [[ 27  28 243  67]]\n",
      "wotha [[ 14 294 152 319]]\n",
      "wotha [[ 57  44 121  64]]\n",
      "wotha [[ 26  30 156  74]]\n",
      "wotha [[392  34 461  60]]\n",
      "wotha [[ 21  19 172  59]]\n",
      "wotha [[ 15  18 160  59]]\n",
      "wotha [[289  35 462  71]]\n",
      "wotha [[ 92 445 237 473]]\n",
      "wotha [[ 41  47 118  75]]\n",
      "wotha [[ 30  43 143  68]]\n",
      "wotha [[ 37  39 156  62]]\n",
      "wotha [[411  23 472  45]]\n",
      "wotha [[302  38 454  89]]\n",
      "wotha [[360  27 472  53]]\n",
      "Outer loop error: Traceback (most recent call last):\n",
      "  File \"/home/ubuntu/anaconda3/lib/python3.6/site-packages/torch/utils/data/_utils/worker.py\", line 99, in _worker_loop\n",
      "    samples = collate_fn([dataset[i] for i in batch_indices])\n",
      "  File \"/home/ubuntu/anaconda3/lib/python3.6/site-packages/torch/utils/data/_utils/collate.py\", line 63, in default_collate\n",
      "    return {key: default_collate([d[key] for d in batch]) for key in batch[0]}\n",
      "  File \"/home/ubuntu/anaconda3/lib/python3.6/site-packages/torch/utils/data/_utils/collate.py\", line 63, in <dictcomp>\n",
      "    return {key: default_collate([d[key] for d in batch]) for key in batch[0]}\n",
      "  File \"/home/ubuntu/anaconda3/lib/python3.6/site-packages/torch/utils/data/_utils/collate.py\", line 70, in default_collate\n",
      "    raise TypeError((error_msg_fmt.format(type(batch[0]))))\n",
      "TypeError: batch must contain tensors, numbers, dicts or lists; found <class 'mmcv.parallel.data_container.DataContainer'>\n",
      "\n",
      "wotha [[ 24  26 135  65]]\n",
      "wotha [[334 257 471 282]]\n",
      "wotha [[ 30  25 306  93]]\n",
      "wotha [[340  22 472  47]]\n"
     ]
    }
   ],
   "source": [
    "try:\n",
    "  for ids, batch in enumerate(data_loader):\n",
    "    try:\n",
    "      print(ids)\n",
    "    except Exception as e:\n",
    "      print('Inner loop error:', e)\n",
    "except Exception as e:\n",
    "  print('Outer loop error:', e)\n"
   ]
  },
  {
   "cell_type": "code",
   "execution_count": 15,
   "metadata": {},
   "outputs": [],
   "source": [
    "import numpy as np\n",
    "gt_box = np.array([[231, 31, 468, 78],[ 21, 19, 165, 44]])"
   ]
  },
  {
   "cell_type": "code",
   "execution_count": 18,
   "metadata": {},
   "outputs": [
    {
     "data": {
      "text/plain": [
       "array([[231, 468],\n",
       "       [ 21, 165]])"
      ]
     },
     "execution_count": 18,
     "metadata": {},
     "output_type": "execute_result"
    }
   ],
   "source": [
    "gt_box[:,0::2]"
   ]
  },
  {
   "cell_type": "code",
   "execution_count": 17,
   "metadata": {},
   "outputs": [
    {
     "data": {
      "text/plain": [
       "array([[100, 100],\n",
       "       [ 21, 100]])"
      ]
     },
     "execution_count": 17,
     "metadata": {},
     "output_type": "execute_result"
    }
   ],
   "source": [
    "np.clip(gt_box[:, 0::2], 0, 100)"
   ]
  },
  {
   "cell_type": "markdown",
   "metadata": {},
   "source": [
    "\n",
    "```\n",
    "python3 tools/train.py configs/my_config_faster_rcnn_r101_fpn_1x.py --gpus 1\n",
    "\n",
    "```"
   ]
  },
  {
   "cell_type": "code",
   "execution_count": null,
   "metadata": {},
   "outputs": [],
   "source": []
  }
 ],
 "metadata": {
  "kernelspec": {
   "display_name": "Python 3",
   "language": "python",
   "name": "python3"
  },
  "language_info": {
   "codemirror_mode": {
    "name": "ipython",
    "version": 3
   },
   "file_extension": ".py",
   "mimetype": "text/x-python",
   "name": "python",
   "nbconvert_exporter": "python",
   "pygments_lexer": "ipython3",
   "version": "3.6.5"
  }
 },
 "nbformat": 4,
 "nbformat_minor": 2
}
