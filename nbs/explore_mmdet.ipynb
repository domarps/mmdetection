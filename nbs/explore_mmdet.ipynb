{
 "cells": [
  {
   "cell_type": "code",
   "execution_count": 1,
   "metadata": {},
   "outputs": [],
   "source": [
    "from mmdet import __version__"
   ]
  },
  {
   "cell_type": "code",
   "execution_count": 2,
   "metadata": {},
   "outputs": [],
   "source": [
    "from __future__ import division\n",
    "\n",
    "import argparse\n",
    "from mmcv import Config\n",
    "\n",
    "from mmdet import __version__\n",
    "from mmdet.datasets import get_dataset\n",
    "from mmdet.apis import (train_detector, init_dist, get_root_logger,\n",
    "                        set_random_seed)\n",
    "from mmdet.models import build_detector\n",
    "import torch\n",
    "import mmcv\n"
   ]
  },
  {
   "cell_type": "code",
   "execution_count": 3,
   "metadata": {},
   "outputs": [],
   "source": [
    "cfg = Config.fromfile('../configs/my_config_faster_rcnn_r101_fpn_1x.py')"
   ]
  },
  {
   "cell_type": "code",
   "execution_count": 4,
   "metadata": {},
   "outputs": [],
   "source": [
    "img_infos = mmcv.load(cfg.data.train.ann_file)"
   ]
  },
  {
   "cell_type": "code",
   "execution_count": 5,
   "metadata": {},
   "outputs": [
    {
     "data": {
      "text/plain": [
       "{'type': 'CustomDataset',\n",
       " 'ann_file': '/home/ubuntu/tp/annotations/tp_train.pkl',\n",
       " 'img_prefix': '/home/ubuntu/tp/mmdet-train/',\n",
       " 'img_scale': (1333, 800),\n",
       " 'img_norm_cfg': {'mean': [123.675, 116.28, 103.53],\n",
       "  'std': [58.395, 57.12, 57.375],\n",
       "  'to_rgb': True},\n",
       " 'size_divisor': 32,\n",
       " 'flip_ratio': 0.5,\n",
       " 'with_mask': False,\n",
       " 'with_crowd': False,\n",
       " 'with_label': True}"
      ]
     },
     "execution_count": 5,
     "metadata": {},
     "output_type": "execute_result"
    }
   ],
   "source": [
    "cfg.data.train"
   ]
  },
  {
   "cell_type": "code",
   "execution_count": 6,
   "metadata": {},
   "outputs": [],
   "source": [
    "\n",
    "! cp ../mmdet/datasets/custom.py /home/ubuntu/anaconda3/lib/python3.6/site-packages/mmdet-0.6.0+11e9c74-py3.6.egg/mmdet/datasets/custom.py"
   ]
  },
  {
   "cell_type": "code",
   "execution_count": 7,
   "metadata": {},
   "outputs": [
    {
     "data": {
      "text/plain": [
       "('token_1', 'token_2', 'token_3', 'token_5', 'token_10', 'token_36')"
      ]
     },
     "execution_count": 7,
     "metadata": {},
     "output_type": "execute_result"
    }
   ],
   "source": [
    "from mmdet.datasets.custom import CustomDataset\n",
    "CustomDataset.CLASSES"
   ]
  },
  {
   "cell_type": "code",
   "execution_count": 8,
   "metadata": {},
   "outputs": [
    {
     "name": "stdout",
     "output_type": "stream",
     "text": [
      "Loaded annotation file ...\n"
     ]
    }
   ],
   "source": [
    "train_dataset = get_dataset(cfg.data.train)"
   ]
  },
  {
   "cell_type": "code",
   "execution_count": 9,
   "metadata": {},
   "outputs": [
    {
     "data": {
      "text/plain": [
       "'/home/ubuntu/tp/mmdet-train/'"
      ]
     },
     "execution_count": 9,
     "metadata": {},
     "output_type": "execute_result"
    }
   ],
   "source": [
    "train_dataset.img_prefix"
   ]
  },
  {
   "cell_type": "code",
   "execution_count": 10,
   "metadata": {},
   "outputs": [],
   "source": [
    "data_loader = torch.utils.data.DataLoader(train_dataset, batch_size=8, shuffle=False, num_workers=8, drop_last=False)"
   ]
  },
  {
   "cell_type": "code",
   "execution_count": 11,
   "metadata": {},
   "outputs": [
    {
     "data": {
      "text/plain": [
       "torch.utils.data.dataloader.DataLoader"
      ]
     },
     "execution_count": 11,
     "metadata": {},
     "output_type": "execute_result"
    }
   ],
   "source": [
    "type(data_loader)"
   ]
  },
  {
   "cell_type": "code",
   "execution_count": 19,
   "metadata": {},
   "outputs": [
    {
     "name": "stdout",
     "output_type": "stream",
     "text": [
      "wotha [29 29 90 50]\n",
      "wotha [ 27  22 101  48]\n",
      "wotha [231  31 468  78]\n",
      "wotha [ 26  24 129  54]\n",
      "wotha [ 14 294 152 319]\n",
      "wotha [320  14 488  68]\n",
      "wotha [354  35 460  71]\n",
      "wotha [ 17  21 165  54]\n",
      "wotha [ 21  19 165  44]\n",
      "Outer loop error: Traceback (most recent call last):\n",
      "  File \"/home/ubuntu/anaconda3/lib/python3.6/site-packages/torch/utils/data/_utils/worker.py\", line 99, in _worker_loop\n",
      "    samples = collate_fn([dataset[i] for i in batch_indices])\n",
      "  File \"/home/ubuntu/anaconda3/lib/python3.6/site-packages/torch/utils/data/_utils/worker.py\", line 99, in <listcomp>\n",
      "    samples = collate_fn([dataset[i] for i in batch_indices])\n",
      "  File \"/home/ubuntu/anaconda3/lib/python3.6/site-packages/mmdet-0.6.0+11e9c74-py3.6.egg/mmdet/datasets/custom.py\", line 170, in __getitem__\n",
      "    data = self.prepare_train_img(idx)\n",
      "  File \"/home/ubuntu/anaconda3/lib/python3.6/site-packages/mmdet-0.6.0+11e9c74-py3.6.egg/mmdet/datasets/custom.py\", line 236, in prepare_train_img\n",
      "    flip)\n",
      "  File \"/home/ubuntu/anaconda3/lib/python3.6/site-packages/mmdet-0.6.0+11e9c74-py3.6.egg/mmdet/datasets/transforms.py\", line 82, in __call__\n",
      "    gt_bboxes[:, 0::2] = np.clip(gt_bboxes[:, 0::2], 0, img_shape[1] - 1)\n",
      "IndexError: too many indices for array\n",
      "\n"
     ]
    }
   ],
   "source": [
    "try:\n",
    "  for ids, batch in enumerate(data_loader):\n",
    "    try:\n",
    "      print(ids)\n",
    "    except Exception as e:\n",
    "      print('Inner loop error:', e)\n",
    "except Exception as e:\n",
    "  print('Outer loop error:', e)\n"
   ]
  },
  {
   "cell_type": "code",
   "execution_count": 15,
   "metadata": {},
   "outputs": [],
   "source": [
    "import numpy as np\n",
    "gt_box = np.array([[231, 31, 468, 78],[ 21, 19, 165, 44]])"
   ]
  },
  {
   "cell_type": "code",
   "execution_count": 18,
   "metadata": {},
   "outputs": [
    {
     "data": {
      "text/plain": [
       "array([[231, 468],\n",
       "       [ 21, 165]])"
      ]
     },
     "execution_count": 18,
     "metadata": {},
     "output_type": "execute_result"
    }
   ],
   "source": [
    "gt_box[:,0::2]"
   ]
  },
  {
   "cell_type": "code",
   "execution_count": 17,
   "metadata": {},
   "outputs": [
    {
     "data": {
      "text/plain": [
       "array([[100, 100],\n",
       "       [ 21, 100]])"
      ]
     },
     "execution_count": 17,
     "metadata": {},
     "output_type": "execute_result"
    }
   ],
   "source": [
    "np.clip(gt_box[:, 0::2], 0, 100)"
   ]
  },
  {
   "cell_type": "code",
   "execution_count": null,
   "metadata": {},
   "outputs": [],
   "source": []
  }
 ],
 "metadata": {
  "kernelspec": {
   "display_name": "Python 3",
   "language": "python",
   "name": "python3"
  },
  "language_info": {
   "codemirror_mode": {
    "name": "ipython",
    "version": 3
   },
   "file_extension": ".py",
   "mimetype": "text/x-python",
   "name": "python",
   "nbconvert_exporter": "python",
   "pygments_lexer": "ipython3",
   "version": "3.6.5"
  }
 },
 "nbformat": 4,
 "nbformat_minor": 2
}
