{
 "cells": [
  {
   "cell_type": "markdown",
   "metadata": {},
   "source": [
    "#### Prepare Annotations"
   ]
  },
  {
   "cell_type": "markdown",
   "metadata": {},
   "source": [
    "```\n",
    "\n",
    "annotation = {\n",
    "'filename': img_path,\n",
    "'width': w,\n",
    "'height': h,\n",
    "'ann': {\n",
    "    'bboxes': bboxes.astype(np.float32),\n",
    "    'labels': labels.astype(np.int64),\n",
    "    'bboxes_ignore': bboxes_ignore.astype(np.float32),\n",
    "    'labels_ignore': labels_ignore.astype(np.int64)\n",
    "}\n",
    "}\n",
    "\n",
    "```"
   ]
  },
  {
   "cell_type": "code",
   "execution_count": 36,
   "metadata": {},
   "outputs": [],
   "source": [
    "annotations = []"
   ]
  },
  {
   "cell_type": "code",
   "execution_count": 37,
   "metadata": {},
   "outputs": [
    {
     "name": "stdout",
     "output_type": "stream",
     "text": [
      "cid,filename,width,height,xmin,ymin,xmax,ymax,num_tokens\n",
      "122240045,500_F_122240045_e7QHZ8T7WLpsRWP3Ibx6quxaUKXQzs4T.jpg,500,392,29,29,90,50,token_1\n",
      "209829899,500_F_209829899_lq6d3xclAVkA7XOu3GQKGvxgjqDBdjGF.jpg,500,375,14,14,90,34,token_2\n",
      "13829594,500_F_13829594_PyEjWU070XPo7RCony9oi14UEi5LEr1T.jpg,500,334,351,14,482,49,token_10\n",
      "86125167,500_F_86125167_zBSLCTXKbnPenEmP2C7vzyZtwPGkZaYO.jpg,500,334,367,260,481,303,token_5\n",
      "38550534,500_F_38550534_8VArIDHCnuh8E8je08XTIRahTWeOOuYN.jpg,335,500,20,9,312,43,token_36\n",
      "123720297,500_F_123720297_dxh673J3iAZVecM0HPbVEMKBfY4BXAN0.jpg,334,500,14,16,141,63,token_10\n",
      "2754791,500_F_2754791_WgYr12CMnx7HQEfCMeJGYrfKcQD1K7.jpg,334,500,15,11,221,37,token_5\n",
      "57345528,500_F_57345528_t9edGRRK9Uc0pezgyT34eSTG7JHIRS3B.jpg,500,383,9,7,189,27,token_5\n",
      "184598300,500_F_184598300_T3DTjPD4RYTtQukmyz3QZzkSyjEyYBas.jpg,350,500,235,31,315,57,token_1\n"
     ]
    }
   ],
   "source": [
    "! head mmdetection_input.csv"
   ]
  },
  {
   "cell_type": "markdown",
   "metadata": {},
   "source": [
    "#### Split into test and train"
   ]
  },
  {
   "cell_type": "code",
   "execution_count": 50,
   "metadata": {},
   "outputs": [],
   "source": [
    "import pandas as pd\n",
    "import numpy as np\n",
    "\n",
    "df = pd.read_csv('mmdetection_input.csv')\n"
   ]
  },
  {
   "cell_type": "code",
   "execution_count": 51,
   "metadata": {},
   "outputs": [],
   "source": [
    "df['split'] = np.random.randn(df.shape[0], 1)\n",
    "\n",
    "msk = np.random.rand(len(df)) <= 0.7\n",
    "\n",
    "train = df[msk]\n",
    "test = df[~msk]"
   ]
  },
  {
   "cell_type": "code",
   "execution_count": 52,
   "metadata": {},
   "outputs": [],
   "source": [
    "train = train.drop(['split'], axis=1)\n",
    "test = test.drop(['split'], axis=1)"
   ]
  },
  {
   "cell_type": "code",
   "execution_count": 53,
   "metadata": {},
   "outputs": [],
   "source": [
    "train.to_csv('mmdetection_train.csv', index=None)"
   ]
  },
  {
   "cell_type": "code",
   "execution_count": 54,
   "metadata": {},
   "outputs": [],
   "source": [
    "test.to_csv('mmdetection_val.csv', index=None)"
   ]
  },
  {
   "cell_type": "code",
   "execution_count": 55,
   "metadata": {},
   "outputs": [
    {
     "name": "stdout",
     "output_type": "stream",
     "text": [
      "cid,filename,width,height,xmin,ymin,xmax,ymax,num_tokens\n",
      "122240045,500_F_122240045_e7QHZ8T7WLpsRWP3Ibx6quxaUKXQzs4T.jpg,500,392,29,29,90,50,token_1\n",
      "13829594,500_F_13829594_PyEjWU070XPo7RCony9oi14UEi5LEr1T.jpg,500,334,351,14,482,49,token_10\n"
     ]
    }
   ],
   "source": [
    "! head -n 3 mmdetection_train.csv"
   ]
  },
  {
   "cell_type": "code",
   "execution_count": 56,
   "metadata": {},
   "outputs": [],
   "source": [
    "#class_dict = {'1' : 1, '2' : 2, '3' : 3, '5' : 5, '10' : 10, '36' : 36}\n",
    "\n",
    "def create_annotation(row_dict):\n",
    "    annotation = {}\n",
    "    annotation['filename'] = row_dict['filename']\n",
    "    annotation['width'] = row_dict['width']\n",
    "    annotation['height'] = row_dict['height']\n",
    "    annotation['ann'] = {}\n",
    "    annotation['ann']['bboxes'] = np.array([\n",
    "                                             int(row_dict['xmin']),\n",
    "                                             int(row_dict['ymin']),\n",
    "                                             int(row_dict['xmax']),\n",
    "                                             int(row_dict['ymax'])\n",
    "                                            ])\n",
    "    try:\n",
    "        annotation['ann']['labels'] = row_dict['num_tokens']\n",
    "    except:\n",
    "        print('WTF')\n",
    "    \n",
    "    return annotation\n",
    "                         "
   ]
  },
  {
   "cell_type": "code",
   "execution_count": 57,
   "metadata": {},
   "outputs": [],
   "source": [
    "import csv\n",
    "import numpy as np\n",
    "\n",
    "line_number = 0\n",
    "\n",
    "def csv_to_annotation_pkl(csv_file):\n",
    "    annotations = []\n",
    "    with open(csv_file) as f:\n",
    "        reader = csv.reader(f, skipinitialspace=True)\n",
    "        header = next(reader)\n",
    "        while True:\n",
    "            try:\n",
    "                row = next(reader)\n",
    "                line_number += 1\n",
    "                row_dict = dict(zip(header, row))\n",
    "                annotations.append(create_annotation(row_dict))\n",
    "            except:\n",
    "                break\n",
    "    return annotations"
   ]
  },
  {
   "cell_type": "code",
   "execution_count": 58,
   "metadata": {},
   "outputs": [],
   "source": [
    "train_annotations = csv_to_annotation_pkl('mmdetection_train.csv')"
   ]
  },
  {
   "cell_type": "code",
   "execution_count": 59,
   "metadata": {},
   "outputs": [],
   "source": [
    "import mmcv\n",
    "mmcv.dump(train_annotations, 'tp_train.pkl')"
   ]
  },
  {
   "cell_type": "code",
   "execution_count": 60,
   "metadata": {},
   "outputs": [],
   "source": [
    "test_annotations = csv_to_annotation_pkl('mmdetection_val.csv')"
   ]
  },
  {
   "cell_type": "code",
   "execution_count": 61,
   "metadata": {},
   "outputs": [],
   "source": [
    "mmcv.dump(test_annotations, 'tp_val.pkl')"
   ]
  },
  {
   "cell_type": "markdown",
   "metadata": {},
   "source": [
    "### Move train and val datasets to another folder"
   ]
  },
  {
   "cell_type": "code",
   "execution_count": 64,
   "metadata": {},
   "outputs": [
    {
     "data": {
      "text/plain": [
       "True"
      ]
     },
     "execution_count": 64,
     "metadata": {},
     "output_type": "execute_result"
    }
   ],
   "source": [
    "import os\n",
    "import shutil\n",
    "src_file_name = '/home/ubuntu/text-placement/images/' + train.iloc[0]['filename']"
   ]
  },
  {
   "cell_type": "code",
   "execution_count": 68,
   "metadata": {},
   "outputs": [],
   "source": [
    "def copy_file_to_folder(filename, dest_folder):\n",
    "    src_file_name = '/home/ubuntu/text-placement/images/' + filename\n",
    "    if os.path.exists(src_file_name):\n",
    "        shutil.copy(src_file_name, dest_folder) \n",
    "    "
   ]
  },
  {
   "cell_type": "code",
   "execution_count": 69,
   "metadata": {},
   "outputs": [],
   "source": [
    "copy_file_to_folder(train.iloc[0]['filename'], '/home/ubuntu/tp/mmdet-train')"
   ]
  },
  {
   "cell_type": "code",
   "execution_count": 72,
   "metadata": {},
   "outputs": [
    {
     "data": {
      "text/plain": [
       "0        None\n",
       "2        None\n",
       "3        None\n",
       "4        None\n",
       "6        None\n",
       "9        None\n",
       "10       None\n",
       "12       None\n",
       "14       None\n",
       "15       None\n",
       "17       None\n",
       "19       None\n",
       "20       None\n",
       "23       None\n",
       "24       None\n",
       "25       None\n",
       "27       None\n",
       "28       None\n",
       "30       None\n",
       "31       None\n",
       "32       None\n",
       "33       None\n",
       "34       None\n",
       "35       None\n",
       "37       None\n",
       "38       None\n",
       "42       None\n",
       "43       None\n",
       "45       None\n",
       "46       None\n",
       "         ... \n",
       "13526    None\n",
       "13527    None\n",
       "13528    None\n",
       "13530    None\n",
       "13531    None\n",
       "13532    None\n",
       "13533    None\n",
       "13534    None\n",
       "13535    None\n",
       "13537    None\n",
       "13538    None\n",
       "13539    None\n",
       "13542    None\n",
       "13543    None\n",
       "13544    None\n",
       "13545    None\n",
       "13546    None\n",
       "13547    None\n",
       "13550    None\n",
       "13551    None\n",
       "13553    None\n",
       "13554    None\n",
       "13557    None\n",
       "13558    None\n",
       "13559    None\n",
       "13563    None\n",
       "13566    None\n",
       "13567    None\n",
       "13568    None\n",
       "13569    None\n",
       "Name: filename, Length: 9526, dtype: object"
      ]
     },
     "execution_count": 72,
     "metadata": {},
     "output_type": "execute_result"
    }
   ],
   "source": [
    "train['filename'].apply(copy_file_to_folder, args=('/home/ubuntu/tp/mmdet-train',))"
   ]
  },
  {
   "cell_type": "code",
   "execution_count": 75,
   "metadata": {},
   "outputs": [
    {
     "name": "stdout",
     "output_type": "stream",
     "text": [
      "6213\n"
     ]
    }
   ],
   "source": [
    "! ls -l /home/ubuntu/tp/mmdet-train/ | wc -l"
   ]
  },
  {
   "cell_type": "code",
   "execution_count": 76,
   "metadata": {},
   "outputs": [
    {
     "data": {
      "text/plain": [
       "1        None\n",
       "5        None\n",
       "7        None\n",
       "8        None\n",
       "11       None\n",
       "13       None\n",
       "16       None\n",
       "18       None\n",
       "21       None\n",
       "22       None\n",
       "26       None\n",
       "29       None\n",
       "36       None\n",
       "39       None\n",
       "40       None\n",
       "41       None\n",
       "44       None\n",
       "47       None\n",
       "50       None\n",
       "53       None\n",
       "59       None\n",
       "61       None\n",
       "68       None\n",
       "69       None\n",
       "72       None\n",
       "77       None\n",
       "79       None\n",
       "82       None\n",
       "84       None\n",
       "87       None\n",
       "         ... \n",
       "13483    None\n",
       "13486    None\n",
       "13490    None\n",
       "13491    None\n",
       "13495    None\n",
       "13497    None\n",
       "13498    None\n",
       "13499    None\n",
       "13503    None\n",
       "13504    None\n",
       "13511    None\n",
       "13513    None\n",
       "13514    None\n",
       "13515    None\n",
       "13521    None\n",
       "13524    None\n",
       "13529    None\n",
       "13536    None\n",
       "13540    None\n",
       "13541    None\n",
       "13548    None\n",
       "13549    None\n",
       "13552    None\n",
       "13555    None\n",
       "13556    None\n",
       "13560    None\n",
       "13561    None\n",
       "13562    None\n",
       "13564    None\n",
       "13565    None\n",
       "Name: filename, Length: 4044, dtype: object"
      ]
     },
     "execution_count": 76,
     "metadata": {},
     "output_type": "execute_result"
    }
   ],
   "source": [
    "test['filename'].apply(copy_file_to_folder, args=('/home/ubuntu/tp/mmdet-val',))"
   ]
  },
  {
   "cell_type": "code",
   "execution_count": null,
   "metadata": {},
   "outputs": [],
   "source": []
  }
 ],
 "metadata": {
  "kernelspec": {
   "display_name": "Python 3",
   "language": "python",
   "name": "python3"
  },
  "language_info": {
   "codemirror_mode": {
    "name": "ipython",
    "version": 3
   },
   "file_extension": ".py",
   "mimetype": "text/x-python",
   "name": "python",
   "nbconvert_exporter": "python",
   "pygments_lexer": "ipython3",
   "version": "3.6.5"
  }
 },
 "nbformat": 4,
 "nbformat_minor": 2
}
