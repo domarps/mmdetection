{
 "cells": [
  {
   "cell_type": "code",
   "execution_count": 28,
   "metadata": {},
   "outputs": [],
   "source": [
    "import pickle"
   ]
  },
  {
   "cell_type": "code",
   "execution_count": 29,
   "metadata": {},
   "outputs": [],
   "source": [
    "train = open('/home/ubuntu/tp/annotations/tp_train.pkl', 'rb')"
   ]
  },
  {
   "cell_type": "code",
   "execution_count": 30,
   "metadata": {},
   "outputs": [],
   "source": [
    "train_data = pickle.load(train)"
   ]
  },
  {
   "cell_type": "code",
   "execution_count": 31,
   "metadata": {},
   "outputs": [
    {
     "data": {
      "text/plain": [
       "12908"
      ]
     },
     "execution_count": 31,
     "metadata": {},
     "output_type": "execute_result"
    }
   ],
   "source": [
    "len(train_data)"
   ]
  },
  {
   "cell_type": "code",
   "execution_count": 32,
   "metadata": {},
   "outputs": [
    {
     "data": {
      "text/plain": [
       "[{'filename': '500_F_122240045_e7QHZ8T7WLpsRWP3Ibx6quxaUKXQzs4T.jpg',\n",
       "  'width': 500,\n",
       "  'height': 392,\n",
       "  'ann': {'bboxes': array([[29., 29., 90., 50.]], dtype=float32),\n",
       "   'labels': array([1]),\n",
       "   'bboxes_ignore': array([], shape=(0, 4), dtype=float32),\n",
       "   'labels_ignore': array([], dtype=int64)}},\n",
       " {'filename': '500_F_209829899_lq6d3xclAVkA7XOu3GQKGvxgjqDBdjGF.jpg',\n",
       "  'width': 500,\n",
       "  'height': 375,\n",
       "  'ann': {'bboxes': array([[14., 14., 90., 34.]], dtype=float32),\n",
       "   'labels': array([2]),\n",
       "   'bboxes_ignore': array([], shape=(0, 4), dtype=float32),\n",
       "   'labels_ignore': array([], dtype=int64)}},\n",
       " {'filename': '500_F_13829594_PyEjWU070XPo7RCony9oi14UEi5LEr1T.jpg',\n",
       "  'width': 500,\n",
       "  'height': 334,\n",
       "  'ann': {'bboxes': array([[351.,  14., 482.,  49.]], dtype=float32),\n",
       "   'labels': array([10]),\n",
       "   'bboxes_ignore': array([], shape=(0, 4), dtype=float32),\n",
       "   'labels_ignore': array([], dtype=int64)}},\n",
       " {'filename': '500_F_86125167_zBSLCTXKbnPenEmP2C7vzyZtwPGkZaYO.jpg',\n",
       "  'width': 500,\n",
       "  'height': 334,\n",
       "  'ann': {'bboxes': array([[367., 260., 481., 303.]], dtype=float32),\n",
       "   'labels': array([5]),\n",
       "   'bboxes_ignore': array([], shape=(0, 4), dtype=float32),\n",
       "   'labels_ignore': array([], dtype=int64)}},\n",
       " {'filename': '500_F_38550534_8VArIDHCnuh8E8je08XTIRahTWeOOuYN.jpg',\n",
       "  'width': 335,\n",
       "  'height': 500,\n",
       "  'ann': {'bboxes': array([[ 20.,   9., 312.,  43.]], dtype=float32),\n",
       "   'labels': array([36]),\n",
       "   'bboxes_ignore': array([], shape=(0, 4), dtype=float32),\n",
       "   'labels_ignore': array([], dtype=int64)}}]"
      ]
     },
     "execution_count": 32,
     "metadata": {},
     "output_type": "execute_result"
    }
   ],
   "source": [
    "train_data[:5]"
   ]
  },
  {
   "cell_type": "code",
   "execution_count": 22,
   "metadata": {},
   "outputs": [
    {
     "data": {
      "text/plain": [
       "dtype('int64')"
      ]
     },
     "execution_count": 22,
     "metadata": {},
     "output_type": "execute_result"
    }
   ],
   "source": [
    "train_data[0]['ann']['bboxes'].dtype"
   ]
  },
  {
   "cell_type": "code",
   "execution_count": null,
   "metadata": {},
   "outputs": [],
   "source": []
  }
 ],
 "metadata": {
  "kernelspec": {
   "display_name": "Python 3",
   "language": "python",
   "name": "python3"
  },
  "language_info": {
   "codemirror_mode": {
    "name": "ipython",
    "version": 3
   },
   "file_extension": ".py",
   "mimetype": "text/x-python",
   "name": "python",
   "nbconvert_exporter": "python",
   "pygments_lexer": "ipython3",
   "version": "3.6.5"
  }
 },
 "nbformat": 4,
 "nbformat_minor": 2
}
