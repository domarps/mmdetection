{
 "cells": [
  {
   "cell_type": "markdown",
   "metadata": {},
   "source": [
    "#### Prepare Annotations"
   ]
  },
  {
   "cell_type": "markdown",
   "metadata": {},
   "source": [
    "```\n",
    "\n",
    "annotation = {\n",
    "'filename': img_path,\n",
    "'width': w,\n",
    "'height': h,\n",
    "'ann': {\n",
    "    'bboxes': bboxes.astype(np.float32),\n",
    "    'labels': labels.astype(np.int64),\n",
    "    'bboxes_ignore': bboxes_ignore.astype(np.float32),\n",
    "    'labels_ignore': labels_ignore.astype(np.int64)\n",
    "}\n",
    "}\n",
    "\n",
    "```"
   ]
  },
  {
   "cell_type": "code",
   "execution_count": 1,
   "metadata": {},
   "outputs": [],
   "source": [
    "annotations = []"
   ]
  },
  {
   "cell_type": "code",
   "execution_count": 8,
   "metadata": {},
   "outputs": [
    {
     "name": "stdout",
     "output_type": "stream",
     "text": [
      "cid,filename,width,height,xmin,ymin,xmax,ymax,num_tokens\n",
      "122240045,500_F_122240045_e7QHZ8T7WLpsRWP3Ibx6quxaUKXQzs4T.jpg,500,392,29,29,90,50,token_1\n",
      "209829899,500_F_209829899_lq6d3xclAVkA7XOu3GQKGvxgjqDBdjGF.jpg,500,375,14,14,90,34,token_2\n",
      "13829594,500_F_13829594_PyEjWU070XPo7RCony9oi14UEi5LEr1T.jpg,500,334,351,14,482,49,token_10\n",
      "86125167,500_F_86125167_zBSLCTXKbnPenEmP2C7vzyZtwPGkZaYO.jpg,500,334,367,260,481,303,token_5\n",
      "38550534,500_F_38550534_8VArIDHCnuh8E8je08XTIRahTWeOOuYN.jpg,335,500,20,9,312,43,token_36\n",
      "123720297,500_F_123720297_dxh673J3iAZVecM0HPbVEMKBfY4BXAN0.jpg,334,500,14,16,141,63,token_10\n",
      "2754791,500_F_2754791_WgYr12CMnx7HQEfCMeJGYrfKcQD1K7.jpg,334,500,15,11,221,37,token_5\n",
      "57345528,500_F_57345528_t9edGRRK9Uc0pezgyT34eSTG7JHIRS3B.jpg,500,383,9,7,189,27,token_5\n",
      "184598300,500_F_184598300_T3DTjPD4RYTtQukmyz3QZzkSyjEyYBas.jpg,350,500,235,31,315,57,token_1\n"
     ]
    }
   ],
   "source": [
    "! head mmdetection_input.csv"
   ]
  },
  {
   "cell_type": "code",
   "execution_count": 3,
   "metadata": {},
   "outputs": [],
   "source": [
    "#class_dict = {'1' : 1, '2' : 2, '3' : 3, '5' : 5, '10' : 10, '36' : 36}\n",
    "\n",
    "def create_annotation(row_dict):\n",
    "    annotation = {}\n",
    "    annotation['filename'] = row_dict['filename']\n",
    "    annotation['width'] = row_dict['width']\n",
    "    annotation['height'] = row_dict['height']\n",
    "    annotation['ann'] = {}\n",
    "    annotation['ann']['bboxes'] = np.array([\n",
    "                                             int(row_dict['xmin']),\n",
    "                                             int(row_dict['ymin']),\n",
    "                                             int(row_dict['xmax']),\n",
    "                                             int(row_dict['ymax'])\n",
    "                                            ])\n",
    "    try:\n",
    "        annotation['ann']['labels'] = row_dict['num_tokens']\n",
    "    except:\n",
    "        print('WTF')\n",
    "    \n",
    "    return annotation\n",
    "                         "
   ]
  },
  {
   "cell_type": "code",
   "execution_count": 4,
   "metadata": {},
   "outputs": [],
   "source": [
    "import csv\n",
    "import numpy as np\n",
    "\n",
    "line_number = 0\n",
    "with open('mmdetection_input.csv') as f:\n",
    "    reader = csv.reader(f, skipinitialspace=True)\n",
    "    header = next(reader)\n",
    "    while True:\n",
    "        try:\n",
    "            row = next(reader)\n",
    "            line_number += 1\n",
    "            row_dict = dict(zip(header, row))\n",
    "            annotations.append(create_annotation(row_dict))\n",
    "        except:\n",
    "            break"
   ]
  },
  {
   "cell_type": "code",
   "execution_count": 5,
   "metadata": {},
   "outputs": [
    {
     "data": {
      "text/plain": [
       "13570"
      ]
     },
     "execution_count": 5,
     "metadata": {},
     "output_type": "execute_result"
    }
   ],
   "source": [
    "len(annotations)"
   ]
  },
  {
   "cell_type": "code",
   "execution_count": 7,
   "metadata": {},
   "outputs": [],
   "source": [
    "import mmcv\n",
    "mmcv.dump(annotations, 'mmdetect_output.pkl')"
   ]
  },
  {
   "cell_type": "code",
   "execution_count": null,
   "metadata": {},
   "outputs": [],
   "source": []
  }
 ],
 "metadata": {
  "kernelspec": {
   "display_name": "Python 3",
   "language": "python",
   "name": "python3"
  },
  "language_info": {
   "codemirror_mode": {
    "name": "ipython",
    "version": 3
   },
   "file_extension": ".py",
   "mimetype": "text/x-python",
   "name": "python",
   "nbconvert_exporter": "python",
   "pygments_lexer": "ipython3",
   "version": "3.6.5"
  }
 },
 "nbformat": 4,
 "nbformat_minor": 2
}
