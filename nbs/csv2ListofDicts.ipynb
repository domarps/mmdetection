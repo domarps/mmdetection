{
 "cells": [
  {
   "cell_type": "markdown",
   "metadata": {},
   "source": [
    "#### Prepare Annotations"
   ]
  },
  {
   "cell_type": "markdown",
   "metadata": {},
   "source": [
    "```\n",
    "\n",
    "annotation = {\n",
    "'filename': img_path,\n",
    "'width': w,\n",
    "'height': h,\n",
    "'ann': {\n",
    "    'bboxes': bboxes.astype(np.float32),\n",
    "    'labels': labels.astype(np.int64),\n",
    "    'bboxes_ignore': bboxes_ignore.astype(np.float32),\n",
    "    'labels_ignore': labels_ignore.astype(np.int64)\n",
    "}\n",
    "}\n",
    "\n",
    "```"
   ]
  },
  {
   "cell_type": "code",
   "execution_count": 29,
   "metadata": {},
   "outputs": [],
   "source": [
    "annotations = []"
   ]
  },
  {
   "cell_type": "code",
   "execution_count": 30,
   "metadata": {},
   "outputs": [],
   "source": [
    "import csv\n",
    "import numpy as np\n",
    "\n",
    "line_number = 0\n",
    "with open('mmdetection_input.csv') as f:\n",
    "    reader = csv.reader(f, skipinitialspace=True)\n",
    "    header = next(reader)\n",
    "    while True:\n",
    "        try:\n",
    "            row = next(reader)\n",
    "            line_number += 1\n",
    "            row_dict = dict(zip(header, row))\n",
    "            annotations.append(create_annotation(row_dict))\n",
    "        except:\n",
    "            break"
   ]
  },
  {
   "cell_type": "code",
   "execution_count": null,
   "metadata": {},
   "outputs": [],
   "source": []
  },
  {
   "cell_type": "code",
   "execution_count": 31,
   "metadata": {},
   "outputs": [],
   "source": [
    "class_dict = {'1' : 1, '2' : 2, '3' : 3, '5' : 5, '10' : 10, '36' : 36}"
   ]
  },
  {
   "cell_type": "code",
   "execution_count": 32,
   "metadata": {},
   "outputs": [],
   "source": [
    "def create_annotation(row_dict):\n",
    "    annotation = {}\n",
    "    annotation['filename'] = row_dict['filename']\n",
    "    annotation['width'] = row_dict['width']\n",
    "    annotation['height'] = row_dict['height']\n",
    "    annotation['ann'] = {}\n",
    "    annotation['ann']['bboxes'] = np.array([\n",
    "                                             int(row_dict['xmin']),\n",
    "                                             int(row_dict['ymin']),\n",
    "                                             int(row_dict['xmax']),\n",
    "                                             int(row_dict['ymax'])\n",
    "                                            ])\n",
    "    try:\n",
    "        annotation['ann']['labels'] = class_dict[row_dict['num_tokens']]\n",
    "    except:\n",
    "        print(row_dict)\n",
    "    \n",
    "    return annotation\n",
    "                                                \n",
    "        \n",
    "    "
   ]
  },
  {
   "cell_type": "code",
   "execution_count": 33,
   "metadata": {},
   "outputs": [
    {
     "data": {
      "text/plain": [
       "13570"
      ]
     },
     "execution_count": 33,
     "metadata": {},
     "output_type": "execute_result"
    }
   ],
   "source": [
    "len(annotations)"
   ]
  },
  {
   "cell_type": "code",
   "execution_count": 35,
   "metadata": {},
   "outputs": [],
   "source": [
    "mmcv.dump(annotations, 'mmdetect_output.pkl')"
   ]
  },
  {
   "cell_type": "code",
   "execution_count": null,
   "metadata": {},
   "outputs": [],
   "source": []
  }
 ],
 "metadata": {
  "kernelspec": {
   "display_name": "Python 3",
   "language": "python",
   "name": "python3"
  },
  "language_info": {
   "codemirror_mode": {
    "name": "ipython",
    "version": 3
   },
   "file_extension": ".py",
   "mimetype": "text/x-python",
   "name": "python",
   "nbconvert_exporter": "python",
   "pygments_lexer": "ipython3",
   "version": "3.6.5"
  }
 },
 "nbformat": 4,
 "nbformat_minor": 2
}
