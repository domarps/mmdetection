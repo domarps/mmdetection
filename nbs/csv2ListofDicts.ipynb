{
 "cells": [
  {
   "cell_type": "markdown",
   "metadata": {},
   "source": [
    "#### Prepare Annotations"
   ]
  },
  {
   "cell_type": "markdown",
   "metadata": {},
   "source": [
    "```\n",
    "\n",
    "annotation = {\n",
    "'filename': img_path,\n",
    "'width': w,\n",
    "'height': h,\n",
    "'ann': {\n",
    "    'bboxes': bboxes.astype(np.float32),\n",
    "    'labels': labels.astype(np.int64),\n",
    "    'bboxes_ignore': bboxes_ignore.astype(np.float32),\n",
    "    'labels_ignore': labels_ignore.astype(np.int64)\n",
    "}\n",
    "}\n",
    "\n",
    "```"
   ]
  },
  {
   "cell_type": "code",
   "execution_count": 1,
   "metadata": {},
   "outputs": [],
   "source": [
    "annotations = []"
   ]
  },
  {
   "cell_type": "code",
   "execution_count": 2,
   "metadata": {},
   "outputs": [
    {
     "name": "stdout",
     "output_type": "stream",
     "text": [
      "cid,filename,width,height,xmin,ymin,xmax,ymax,num_tokens\n",
      "122240045,500_F_122240045_e7QHZ8T7WLpsRWP3Ibx6quxaUKXQzs4T.jpg,500,392,29,29,90,50,token_1\n",
      "209829899,500_F_209829899_lq6d3xclAVkA7XOu3GQKGvxgjqDBdjGF.jpg,500,375,14,14,90,34,token_2\n",
      "13829594,500_F_13829594_PyEjWU070XPo7RCony9oi14UEi5LEr1T.jpg,500,334,351,14,482,49,token_10\n",
      "86125167,500_F_86125167_zBSLCTXKbnPenEmP2C7vzyZtwPGkZaYO.jpg,500,334,367,260,481,303,token_5\n",
      "38550534,500_F_38550534_8VArIDHCnuh8E8je08XTIRahTWeOOuYN.jpg,335,500,20,9,312,43,token_36\n",
      "123720297,500_F_123720297_dxh673J3iAZVecM0HPbVEMKBfY4BXAN0.jpg,334,500,14,16,141,63,token_10\n",
      "2754791,500_F_2754791_WgYr12CMnx7HQEfCMeJGYrfKcQD1K7.jpg,334,500,15,11,221,37,token_5\n",
      "57345528,500_F_57345528_t9edGRRK9Uc0pezgyT34eSTG7JHIRS3B.jpg,500,383,9,7,189,27,token_5\n",
      "184598300,500_F_184598300_T3DTjPD4RYTtQukmyz3QZzkSyjEyYBas.jpg,350,500,235,31,315,57,token_1\n"
     ]
    }
   ],
   "source": [
    "! head mmdetection_input.csv"
   ]
  },
  {
   "cell_type": "markdown",
   "metadata": {},
   "source": [
    "#### Split into test and train"
   ]
  },
  {
   "cell_type": "code",
   "execution_count": 3,
   "metadata": {},
   "outputs": [],
   "source": [
    "import pandas as pd\n",
    "import numpy as np\n",
    "\n",
    "df = pd.read_csv('mmdetection_input.csv')\n"
   ]
  },
  {
   "cell_type": "code",
   "execution_count": 4,
   "metadata": {},
   "outputs": [],
   "source": [
    "df['split'] = np.random.randn(df.shape[0], 1)\n",
    "\n",
    "msk = np.random.rand(len(df)) <= 0.95\n",
    "\n",
    "train = df[msk]\n",
    "test = df[~msk]"
   ]
  },
  {
   "cell_type": "code",
   "execution_count": 5,
   "metadata": {},
   "outputs": [],
   "source": [
    "train = train.drop(['split'], axis=1)\n",
    "test = test.drop(['split'], axis=1)"
   ]
  },
  {
   "cell_type": "markdown",
   "metadata": {},
   "source": [
    "#### Start from here!!! "
   ]
  },
  {
   "cell_type": "code",
   "execution_count": 6,
   "metadata": {},
   "outputs": [],
   "source": [
    "train.to_csv('mmdetection_train.csv', index=None)"
   ]
  },
  {
   "cell_type": "code",
   "execution_count": 7,
   "metadata": {},
   "outputs": [],
   "source": [
    "test.to_csv('mmdetection_val.csv', index=None)"
   ]
  },
  {
   "cell_type": "code",
   "execution_count": 8,
   "metadata": {},
   "outputs": [
    {
     "name": "stdout",
     "output_type": "stream",
     "text": [
      "12909 mmdetection_train.csv\n"
     ]
    }
   ],
   "source": [
    "! wc -l mmdetection_train.csv"
   ]
  },
  {
   "cell_type": "code",
   "execution_count": 9,
   "metadata": {},
   "outputs": [
    {
     "name": "stdout",
     "output_type": "stream",
     "text": [
      "663 mmdetection_val.csv\n"
     ]
    }
   ],
   "source": [
    "! wc -l mmdetection_val.csv"
   ]
  },
  {
   "cell_type": "code",
   "execution_count": 35,
   "metadata": {},
   "outputs": [
    {
     "name": "stdout",
     "output_type": "stream",
     "text": [
      "cid,filename,width,height,xmin,ymin,xmax,ymax,num_tokens\n",
      "122240045,500_F_122240045_e7QHZ8T7WLpsRWP3Ibx6quxaUKXQzs4T.jpg,500,392,29,29,90,50,token_1\n",
      "209829899,500_F_209829899_lq6d3xclAVkA7XOu3GQKGvxgjqDBdjGF.jpg,500,375,14,14,90,34,token_2\n",
      "13829594,500_F_13829594_PyEjWU070XPo7RCony9oi14UEi5LEr1T.jpg,500,334,351,14,482,49,token_10\n",
      "86125167,500_F_86125167_zBSLCTXKbnPenEmP2C7vzyZtwPGkZaYO.jpg,500,334,367,260,481,303,token_5\n"
     ]
    }
   ],
   "source": [
    "! head -n 5 mmdetection_train.csv"
   ]
  },
  {
   "cell_type": "code",
   "execution_count": 60,
   "metadata": {},
   "outputs": [
    {
     "data": {
      "text/plain": [
       "array([1])"
      ]
     },
     "execution_count": 60,
     "metadata": {},
     "output_type": "execute_result"
    }
   ],
   "source": [
    "z =  np.array([class_dict['token_1']]).astype(np.int64)\n",
    "z"
   ]
  },
  {
   "cell_type": "code",
   "execution_count": 61,
   "metadata": {},
   "outputs": [],
   "source": [
    "class_dict = {'token_1' : 1, 'token_2' : 2, 'token_3' : 3, 'token_5' : 5, 'token_10' : 10, 'token_36' : 36}\n",
    "\n",
    "def create_annotation(row_dict):\n",
    "    annotation = {}\n",
    "    annotation['filename'] = row_dict['filename']\n",
    "    annotation['width'] = int(row_dict['width'])\n",
    "    annotation['height'] = int(row_dict['height'])\n",
    "    annotation['ann'] = {}\n",
    "    \n",
    "    bboxes_ignore = np.zeros((0, 4))\n",
    "    labels_ignore = np.zeros((0, ))\n",
    "    \n",
    "    annotation['ann']['bboxes'] = np.array([[\n",
    "                                             int(row_dict['xmin']),\n",
    "                                             int(row_dict['ymin']),\n",
    "                                             int(row_dict['xmax']),\n",
    "                                             int(row_dict['ymax'])\n",
    "                                            ]]).astype(np.float32)\n",
    "    try:\n",
    "        annotation['ann']['labels'] = np.array([class_dict[row_dict['num_tokens']]]).astype(np.int64)\n",
    "    except:\n",
    "        print('WTF')\n",
    "    annotation['ann']['bboxes_ignore'] = bboxes_ignore.astype(np.float32)\n",
    "    annotation['ann']['labels_ignore'] = labels_ignore.astype(np.int64)\n",
    "    return annotation\n",
    "                         "
   ]
  },
  {
   "cell_type": "code",
   "execution_count": 62,
   "metadata": {},
   "outputs": [],
   "source": [
    "import csv\n",
    "import numpy as np\n",
    "\n",
    "\n",
    "def csv_to_annotation_pkl(csv_file):\n",
    "    annotations = []\n",
    "    line_number = 0\n",
    "    with open(csv_file) as f:\n",
    "        reader = csv.reader(f, skipinitialspace=True)\n",
    "        header = next(reader)\n",
    "        print(header)\n",
    "        while True:\n",
    "            try:\n",
    "                row = next(reader)\n",
    "                line_number += 1\n",
    "                if line_number % 1000 == 0:\n",
    "                    print(line_number)\n",
    "                row_dict = dict(zip(header, row))\n",
    "                annotations.append(create_annotation(row_dict))\n",
    "            except Exception as e:\n",
    "                break\n",
    "    return annotations"
   ]
  },
  {
   "cell_type": "code",
   "execution_count": 63,
   "metadata": {},
   "outputs": [
    {
     "name": "stdout",
     "output_type": "stream",
     "text": [
      "['cid', 'filename', 'width', 'height', 'xmin', 'ymin', 'xmax', 'ymax', 'num_tokens']\n",
      "1000\n",
      "2000\n",
      "3000\n",
      "4000\n",
      "5000\n",
      "6000\n",
      "7000\n",
      "8000\n",
      "9000\n",
      "10000\n",
      "11000\n",
      "12000\n"
     ]
    }
   ],
   "source": [
    "train_annotations = csv_to_annotation_pkl('mmdetection_train.csv')"
   ]
  },
  {
   "cell_type": "code",
   "execution_count": 64,
   "metadata": {},
   "outputs": [
    {
     "data": {
      "text/plain": [
       "12908"
      ]
     },
     "execution_count": 64,
     "metadata": {},
     "output_type": "execute_result"
    }
   ],
   "source": [
    "len(train_annotations)"
   ]
  },
  {
   "cell_type": "code",
   "execution_count": 65,
   "metadata": {},
   "outputs": [],
   "source": [
    "import mmcv\n",
    "mmcv.dump(train_annotations, '/home/ubuntu/tp/annotations/tp_train.pkl')"
   ]
  },
  {
   "cell_type": "code",
   "execution_count": 66,
   "metadata": {},
   "outputs": [
    {
     "name": "stdout",
     "output_type": "stream",
     "text": [
      "['cid', 'filename', 'width', 'height', 'xmin', 'ymin', 'xmax', 'ymax', 'num_tokens']\n"
     ]
    }
   ],
   "source": [
    "test_annotations = csv_to_annotation_pkl('mmdetection_val.csv')"
   ]
  },
  {
   "cell_type": "code",
   "execution_count": 67,
   "metadata": {},
   "outputs": [],
   "source": [
    "mmcv.dump(test_annotations, '/home/ubuntu/tp/annotations/tp_val.pkl')"
   ]
  },
  {
   "cell_type": "code",
   "execution_count": 68,
   "metadata": {},
   "outputs": [
    {
     "name": "stdout",
     "output_type": "stream",
     "text": [
      "4.7M\t/home/ubuntu/tp/annotations/tp_train.pkl\n"
     ]
    }
   ],
   "source": [
    "! du -sh /home/ubuntu/tp/annotations/tp_train.pkl"
   ]
  },
  {
   "cell_type": "code",
   "execution_count": 69,
   "metadata": {},
   "outputs": [
    {
     "name": "stdout",
     "output_type": "stream",
     "text": [
      "244K\t/home/ubuntu/tp/annotations/tp_val.pkl\n"
     ]
    }
   ],
   "source": [
    "! du -sh /home/ubuntu/tp/annotations/tp_val.pkl"
   ]
  },
  {
   "cell_type": "markdown",
   "metadata": {},
   "source": [
    "### Move train and val datasets to another folder"
   ]
  },
  {
   "cell_type": "code",
   "execution_count": 52,
   "metadata": {},
   "outputs": [],
   "source": [
    "import os\n",
    "import shutil\n",
    "src_file_name = '/home/ubuntu/text-placement/images/' + train.iloc[0]['filename']"
   ]
  },
  {
   "cell_type": "code",
   "execution_count": 53,
   "metadata": {},
   "outputs": [],
   "source": [
    "def copy_file_to_folder(filename, dest_folder):\n",
    "    src_file_name = '/home/ubuntu/text-placement/images/' + filename\n",
    "    if os.path.exists(src_file_name):\n",
    "        shutil.copy(src_file_name, dest_folder) \n",
    "    "
   ]
  },
  {
   "cell_type": "code",
   "execution_count": 54,
   "metadata": {},
   "outputs": [],
   "source": [
    "copy_file_to_folder(train.iloc[0]['filename'], '/home/ubuntu/tp/mmdet-train')"
   ]
  },
  {
   "cell_type": "code",
   "execution_count": 55,
   "metadata": {},
   "outputs": [
    {
     "data": {
      "text/plain": [
       "0        None\n",
       "1        None\n",
       "2        None\n",
       "3        None\n",
       "4        None\n",
       "5        None\n",
       "6        None\n",
       "7        None\n",
       "8        None\n",
       "9        None\n",
       "10       None\n",
       "11       None\n",
       "12       None\n",
       "13       None\n",
       "16       None\n",
       "17       None\n",
       "18       None\n",
       "19       None\n",
       "20       None\n",
       "21       None\n",
       "22       None\n",
       "23       None\n",
       "24       None\n",
       "25       None\n",
       "26       None\n",
       "27       None\n",
       "28       None\n",
       "29       None\n",
       "30       None\n",
       "31       None\n",
       "         ... \n",
       "13538    None\n",
       "13539    None\n",
       "13540    None\n",
       "13541    None\n",
       "13542    None\n",
       "13543    None\n",
       "13544    None\n",
       "13545    None\n",
       "13546    None\n",
       "13547    None\n",
       "13548    None\n",
       "13549    None\n",
       "13550    None\n",
       "13551    None\n",
       "13552    None\n",
       "13554    None\n",
       "13556    None\n",
       "13557    None\n",
       "13558    None\n",
       "13559    None\n",
       "13560    None\n",
       "13561    None\n",
       "13562    None\n",
       "13563    None\n",
       "13564    None\n",
       "13565    None\n",
       "13566    None\n",
       "13567    None\n",
       "13568    None\n",
       "13569    None\n",
       "Name: filename, Length: 12908, dtype: object"
      ]
     },
     "execution_count": 55,
     "metadata": {},
     "output_type": "execute_result"
    }
   ],
   "source": [
    "train['filename'].apply(copy_file_to_folder, args=('/home/ubuntu/tp/mmdet-train',))"
   ]
  },
  {
   "cell_type": "code",
   "execution_count": 56,
   "metadata": {},
   "outputs": [
    {
     "name": "stdout",
     "output_type": "stream",
     "text": [
      "7307\n"
     ]
    }
   ],
   "source": [
    "! ls -l /home/ubuntu/tp/mmdet-train/ | wc -l"
   ]
  },
  {
   "cell_type": "code",
   "execution_count": 57,
   "metadata": {},
   "outputs": [
    {
     "data": {
      "text/plain": [
       "14       None\n",
       "15       None\n",
       "80       None\n",
       "89       None\n",
       "121      None\n",
       "128      None\n",
       "148      None\n",
       "151      None\n",
       "182      None\n",
       "188      None\n",
       "199      None\n",
       "230      None\n",
       "255      None\n",
       "267      None\n",
       "268      None\n",
       "293      None\n",
       "307      None\n",
       "309      None\n",
       "311      None\n",
       "315      None\n",
       "338      None\n",
       "343      None\n",
       "364      None\n",
       "397      None\n",
       "433      None\n",
       "447      None\n",
       "452      None\n",
       "460      None\n",
       "472      None\n",
       "498      None\n",
       "         ... \n",
       "12904    None\n",
       "12944    None\n",
       "12985    None\n",
       "12987    None\n",
       "12995    None\n",
       "12997    None\n",
       "13039    None\n",
       "13052    None\n",
       "13059    None\n",
       "13061    None\n",
       "13080    None\n",
       "13100    None\n",
       "13118    None\n",
       "13137    None\n",
       "13227    None\n",
       "13260    None\n",
       "13284    None\n",
       "13285    None\n",
       "13296    None\n",
       "13315    None\n",
       "13350    None\n",
       "13353    None\n",
       "13358    None\n",
       "13378    None\n",
       "13402    None\n",
       "13495    None\n",
       "13507    None\n",
       "13537    None\n",
       "13553    None\n",
       "13555    None\n",
       "Name: filename, Length: 662, dtype: object"
      ]
     },
     "execution_count": 57,
     "metadata": {},
     "output_type": "execute_result"
    }
   ],
   "source": [
    "test['filename'].apply(copy_file_to_folder, args=('/home/ubuntu/tp/mmdet-val',))"
   ]
  },
  {
   "cell_type": "code",
   "execution_count": 58,
   "metadata": {},
   "outputs": [
    {
     "name": "stdout",
     "output_type": "stream",
     "text": [
      "647\n"
     ]
    }
   ],
   "source": [
    "! ls -l /home/ubuntu/tp/mmdet-val/ | wc -l"
   ]
  },
  {
   "cell_type": "code",
   "execution_count": null,
   "metadata": {},
   "outputs": [],
   "source": []
  }
 ],
 "metadata": {
  "kernelspec": {
   "display_name": "Python 3",
   "language": "python",
   "name": "python3"
  },
  "language_info": {
   "codemirror_mode": {
    "name": "ipython",
    "version": 3
   },
   "file_extension": ".py",
   "mimetype": "text/x-python",
   "name": "python",
   "nbconvert_exporter": "python",
   "pygments_lexer": "ipython3",
   "version": "3.6.5"
  }
 },
 "nbformat": 4,
 "nbformat_minor": 2
}
